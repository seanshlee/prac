{
 "cells": [
  {
   "cell_type": "code",
   "execution_count": null,
   "metadata": {},
   "outputs": [],
   "source": [
    "# This dataset includes \n",
    "# scores from three test scores \n",
    "# of students at a (fictional) public school \n",
    "# and a variety of personal and socio-economic factors \n",
    "# that may have interaction effects upon them.\n",
    "\n",
    "# https://www.kaggle.com/datasets/desalegngeb/students-exam-scores?resource=download"
   ]
  },
  {
   "cell_type": "code",
   "execution_count": null,
   "metadata": {},
   "outputs": [],
   "source": [
    "# 데이터셋 가져오기\n",
    "\n",
    "import os\n",
    "import pandas as pd\n",
    "\n",
    "path = './data/'\n",
    "file_orginal = 'Original_data_with_more_rows.csv'\n",
    "file_expanded = 'Expanded_data_with_more_features.csv'\n",
    "\n",
    "path_file_original = os.path.join(path,file_orginal)\n",
    "path_file_expanded = os.path.join(path,file_expanded)\n",
    "\n",
    "data_original = pd.read_csv(path_file_original)\n",
    "data_expanded = pd.read_csv(path_file_expanded)"
   ]
  },
  {
   "cell_type": "code",
   "execution_count": 79,
   "metadata": {},
   "outputs": [
    {
     "name": "stdout",
     "output_type": "stream",
     "text": [
      "<class 'pandas.core.frame.DataFrame'>\n",
      "RangeIndex: 30641 entries, 0 to 30640\n",
      "Data columns (total 15 columns):\n",
      " #   Column               Non-Null Count  Dtype  \n",
      "---  ------               --------------  -----  \n",
      " 0   Unnamed: 0           30641 non-null  int64  \n",
      " 1   Gender               30641 non-null  object \n",
      " 2   EthnicGroup          28801 non-null  object \n",
      " 3   ParentEduc           28796 non-null  object \n",
      " 4   LunchType            30641 non-null  object \n",
      " 5   TestPrep             28811 non-null  object \n",
      " 6   ParentMaritalStatus  29451 non-null  object \n",
      " 7   PracticeSport        30010 non-null  object \n",
      " 8   IsFirstChild         29737 non-null  object \n",
      " 9   NrSiblings           29069 non-null  float64\n",
      " 10  TransportMeans       27507 non-null  object \n",
      " 11  WklyStudyHours       29686 non-null  object \n",
      " 12  MathScore            30641 non-null  int64  \n",
      " 13  ReadingScore         30641 non-null  int64  \n",
      " 14  WritingScore         30641 non-null  int64  \n",
      "dtypes: float64(1), int64(4), object(10)\n",
      "memory usage: 3.5+ MB\n"
     ]
    },
    {
     "data": {
      "text/plain": [
       "TransportMeans         10.228126\n",
       "ParentEduc              6.021344\n",
       "EthnicGroup             6.005026\n",
       "TestPrep                5.972390\n",
       "NrSiblings              5.130381\n",
       "ParentMaritalStatus     3.883685\n",
       "WklyStudyHours          3.116739\n",
       "IsFirstChild            2.950295\n",
       "PracticeSport           2.059332\n",
       "Unnamed: 0              0.000000\n",
       "Gender                  0.000000\n",
       "LunchType               0.000000\n",
       "MathScore               0.000000\n",
       "ReadingScore            0.000000\n",
       "WritingScore            0.000000\n",
       "dtype: float64"
      ]
     },
     "execution_count": 79,
     "metadata": {},
     "output_type": "execute_result"
    }
   ],
   "source": [
    "# 데이터셋 살펴보기 - 전체적으로\n",
    "    # 중복 제거\n",
    "    # 결측치 규모\n",
    "\n",
    "# data_original.info() \n",
    "# 9 cols 30640 rows\n",
    "data_expanded.info() \n",
    "# 15 cols 30640 rows\n",
    "\n",
    "data = data_expanded\n",
    "data.drop_duplicates()\n",
    "\n",
    "null_count = data.isna().sum()\n",
    "null_count\n",
    "\n",
    "null_ratio = data.isna().mean().sort_values(ascending=False)*100\n",
    "null_ratio"
   ]
  },
  {
   "cell_type": "code",
   "execution_count": 104,
   "metadata": {},
   "outputs": [
    {
     "data": {
      "text/plain": [
       "3.8836852583140233"
      ]
     },
     "execution_count": 104,
     "metadata": {},
     "output_type": "execute_result"
    }
   ],
   "source": [
    "# 데이터셋 살펴보기 - 각 컬럼별로\n",
    "    # 데이터타입 : 데이터타입 변환이 필요한가\n",
    "    # 데이터유형 : 어떤 데이터들이 어떻게 있는가\n",
    "        # 수치형\n",
    "            # 분포 확인 -> 대표값, 유효범위\n",
    "            # <- 박스플롯\n",
    "        # 범주형\n",
    "            # 분포 확인 : 각 범주별 빈도\n",
    "            # <- 막대그래프, 파이차트\n",
    "    # 결측치 규모 : 일괄 삭제할 것인지, 추론할 것인지\n",
    "\n",
    "data.columns\n",
    "columns_ordered = [\n",
    "    'Unnamed: 0'\n",
    "    , 'ParentMaritalStatus', 'ParentEduc'\n",
    "    , 'IsFirstChild', 'NrSiblings'\n",
    "    , 'Gender', 'EthnicGroup'\n",
    "    , 'TransportMeans', 'LunchType'\n",
    "    , 'PracticeSport', 'WklyStudyHours', 'TestPrep'\n",
    "    , 'MathScore', 'ReadingScore', 'WritingScore'\n",
    "]\n",
    "data = data.reindex(columns=columns_ordered)\n",
    "columns = data.columns\n",
    "columns\n",
    "\n",
    "column = 'ParentMaritalStatus'\n",
    "data[column].dtype\n",
    "data[column].value_counts().sort_values(ascending=False)\n",
    "# data[column].value_counts(normalize=True).reset_index()\n",
    "data[column].isna().sum()\n",
    "data[column].isna().mean()*100"
   ]
  },
  {
   "cell_type": "code",
   "execution_count": null,
   "metadata": {},
   "outputs": [],
   "source": [
    "# 데이터셋 살펴보기 - 컬럼 간 관계성\n",
    "    # 수치형 \n",
    "        # data.corr()\n",
    "        # data.describe()\n",
    "        # scaler.fit_transform(data)\n",
    "    # 범주형 \n",
    "        # 논리적으로\n",
    "        # 가설 -> 확인 -> 결론"
   ]
  }
 ],
 "metadata": {
  "kernelspec": {
   "display_name": "venv",
   "language": "python",
   "name": "python3"
  },
  "language_info": {
   "codemirror_mode": {
    "name": "ipython",
    "version": 3
   },
   "file_extension": ".py",
   "mimetype": "text/x-python",
   "name": "python",
   "nbconvert_exporter": "python",
   "pygments_lexer": "ipython3",
   "version": "3.8.8rc1"
  },
  "orig_nbformat": 4
 },
 "nbformat": 4,
 "nbformat_minor": 2
}
