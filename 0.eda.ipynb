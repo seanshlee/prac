{
 "cells": [
  {
   "cell_type": "code",
   "execution_count": null,
   "metadata": {},
   "outputs": [],
   "source": [
    "# This dataset includes \n",
    "# scores from three test scores \n",
    "# of students at a (fictional) public school \n",
    "# and a variety of personal and socio-economic factors \n",
    "# that may have interaction effects upon them.\n",
    "\n",
    "# https://www.kaggle.com/datasets/desalegngeb/students-exam-scores?resource=download"
   ]
  }
 ],
 "metadata": {
  "kernelspec": {
   "display_name": "venv",
   "language": "python",
   "name": "python3"
  },
  "language_info": {
   "codemirror_mode": {
    "name": "ipython",
    "version": 3
   },
   "file_extension": ".py",
   "mimetype": "text/x-python",
   "name": "python",
   "nbconvert_exporter": "python",
   "pygments_lexer": "ipython3",
   "version": "3.8.8rc1"
  },
  "orig_nbformat": 4
 },
 "nbformat": 4,
 "nbformat_minor": 2
}
