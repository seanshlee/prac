{
 "cells": [
  {
   "cell_type": "code",
   "execution_count": null,
   "metadata": {},
   "outputs": [],
   "source": [
    "# This dataset includes \n",
    "# scores from three test scores \n",
    "# of students at a (fictional) public school \n",
    "# and a variety of personal and socio-economic factors \n",
    "# that may have interaction effects upon them.\n",
    "\n",
    "# https://www.kaggle.com/datasets/desalegngeb/students-exam-scores?resource=download"
   ]
  },
  {
   "cell_type": "code",
   "execution_count": null,
   "metadata": {},
   "outputs": [],
   "source": [
    "# 데이터셋 가져오기\n",
    "\n",
    "import os\n",
    "import pandas as pd\n",
    "\n",
    "path = './data/'\n",
    "file_orginal = 'Original_data_with_more_rows.csv'\n",
    "file_expanded = 'Expanded_data_with_more_features.csv'\n",
    "\n",
    "path_file_original = os.path.join(path,file_orginal)\n",
    "path_file_expanded = os.path.join(path,file_expanded)\n",
    "\n",
    "data_original = pd.read_csv(path_file_original)\n",
    "data_expanded = pd.read_csv(path_file_expanded)"
   ]
  },
  {
   "cell_type": "code",
   "execution_count": 79,
   "metadata": {},
   "outputs": [
    {
     "name": "stdout",
     "output_type": "stream",
     "text": [
      "<class 'pandas.core.frame.DataFrame'>\n",
      "RangeIndex: 30641 entries, 0 to 30640\n",
      "Data columns (total 15 columns):\n",
      " #   Column               Non-Null Count  Dtype  \n",
      "---  ------               --------------  -----  \n",
      " 0   Unnamed: 0           30641 non-null  int64  \n",
      " 1   Gender               30641 non-null  object \n",
      " 2   EthnicGroup          28801 non-null  object \n",
      " 3   ParentEduc           28796 non-null  object \n",
      " 4   LunchType            30641 non-null  object \n",
      " 5   TestPrep             28811 non-null  object \n",
      " 6   ParentMaritalStatus  29451 non-null  object \n",
      " 7   PracticeSport        30010 non-null  object \n",
      " 8   IsFirstChild         29737 non-null  object \n",
      " 9   NrSiblings           29069 non-null  float64\n",
      " 10  TransportMeans       27507 non-null  object \n",
      " 11  WklyStudyHours       29686 non-null  object \n",
      " 12  MathScore            30641 non-null  int64  \n",
      " 13  ReadingScore         30641 non-null  int64  \n",
      " 14  WritingScore         30641 non-null  int64  \n",
      "dtypes: float64(1), int64(4), object(10)\n",
      "memory usage: 3.5+ MB\n"
     ]
    },
    {
     "data": {
      "text/plain": [
       "TransportMeans         10.228126\n",
       "ParentEduc              6.021344\n",
       "EthnicGroup             6.005026\n",
       "TestPrep                5.972390\n",
       "NrSiblings              5.130381\n",
       "ParentMaritalStatus     3.883685\n",
       "WklyStudyHours          3.116739\n",
       "IsFirstChild            2.950295\n",
       "PracticeSport           2.059332\n",
       "Unnamed: 0              0.000000\n",
       "Gender                  0.000000\n",
       "LunchType               0.000000\n",
       "MathScore               0.000000\n",
       "ReadingScore            0.000000\n",
       "WritingScore            0.000000\n",
       "dtype: float64"
      ]
     },
     "execution_count": 79,
     "metadata": {},
     "output_type": "execute_result"
    }
   ],
   "source": [
    "# 데이터셋 살펴보기 - 전체적으로\n",
    "    # 중복 제거\n",
    "    # 결측치 규모\n",
    "\n",
    "# data_original.info() \n",
    "# 9 cols 30640 rows\n",
    "data_expanded.info() \n",
    "# 15 cols 30640 rows\n",
    "\n",
    "data = data_expanded\n",
    "data.drop_duplicates()\n",
    "\n",
    "null_count = data.isna().sum()\n",
    "null_count\n",
    "\n",
    "null_ratio = data.isna().mean().sort_values(ascending=False)*100\n",
    "null_ratio"
   ]
  },
  {
   "cell_type": "code",
   "execution_count": 105,
   "metadata": {},
   "outputs": [
    {
     "data": {
      "text/plain": [
       "2.9502953558956952"
      ]
     },
     "execution_count": 105,
     "metadata": {},
     "output_type": "execute_result"
    }
   ],
   "source": [
    "# 데이터셋 살펴보기 - 각 컬럼별로\n",
    "    # 데이터타입 : 데이터타입 변환이 필요한가\n",
    "    # 데이터유형 : 어떤 데이터들이 어떻게 있는가\n",
    "        # 수치형\n",
    "            # 분포 확인 -> 대표값, 유효범위\n",
    "            # <- 박스플롯\n",
    "        # 범주형\n",
    "            # 분포 확인 : 각 범주별 빈도\n",
    "            # <- 막대그래프, 파이차트\n",
    "    # 결측치 규모 : 일괄 삭제할 것인지, 추론할 것인지\n",
    "\n",
    "data.columns\n",
    "columns_ordered = [\n",
    "    'Unnamed: 0'\n",
    "    , 'ParentMaritalStatus', 'ParentEduc'\n",
    "    , 'IsFirstChild', 'NrSiblings'\n",
    "    , 'Gender', 'EthnicGroup'\n",
    "    , 'TransportMeans', 'LunchType'\n",
    "    , 'PracticeSport', 'WklyStudyHours', 'TestPrep'\n",
    "    , 'MathScore', 'ReadingScore', 'WritingScore'\n",
    "]\n",
    "data = data.reindex(columns=columns_ordered)\n",
    "columns = data.columns\n",
    "columns\n",
    "\n",
    "column = 'IsFirstChild'\n",
    "data[column].dtype\n",
    "data[column].value_counts().sort_values(ascending=False)\n",
    "# data[column].value_counts(normalize=True).reset_index()\n",
    "data[column].isna().sum()\n",
    "data[column].isna().mean()*100"
   ]
  },
  {
   "cell_type": "code",
   "execution_count": null,
   "metadata": {},
   "outputs": [],
   "source": [
    "# 데이터셋 살펴보기 - 컬럼 간 관계성\n",
    "    # 수치형 \n",
    "        # data.corr()\n",
    "        # data.describe()\n",
    "        # scaler.fit_transform(data)\n",
    "    # 범주형 \n",
    "        # 논리적으로\n",
    "        # 가설 -> 확인 -> 결론\n",
    "\n",
    "# 결측치 처리\n",
    "# 이상치 처리"
   ]
  },
  {
   "cell_type": "code",
   "execution_count": 113,
   "metadata": {},
   "outputs": [
    {
     "name": "stdout",
     "output_type": "stream",
     "text": [
      "--NrSiblings\n",
      "count 1572\n",
      "ratio 5.130380862243399\n",
      "--IsFirstChild\n",
      "count 904\n",
      "ratio 2.9502953558956952\n"
     ]
    },
    {
     "data": {
      "text/plain": [
       "yes    929\n",
       "no     589\n",
       "Name: IsFirstChild, dtype: int64"
      ]
     },
     "execution_count": 113,
     "metadata": {},
     "output_type": "execute_result"
    }
   ],
   "source": [
    "# NrSiblings 형제수\n",
    "# IsFirstChild 첫째여부\n",
    "\n",
    "column = 'NrSiblings'\n",
    "count = data[column].isna().sum()\n",
    "ratio = data[column].isna().mean()*100\n",
    "print(f'--{column}\\ncount {count}\\nratio {ratio}')\n",
    "\n",
    "column = 'IsFirstChild'\n",
    "count = data[column].isna().sum()\n",
    "ratio = data[column].isna().mean()*100\n",
    "print(f'--{column}\\ncount {count}\\nratio {ratio}')\n",
    "\n",
    "\n",
    "# NrSiblings=Null 일때, IsFirstChild 확인\n",
    "\n",
    "data[data['NrSiblings'].isna()]['IsFirstChild'].isna().sum() \n",
    "# null 54\n",
    "data[data['NrSiblings'].isna()]['IsFirstChild'].value_counts() \n",
    "# yes    929\n",
    "# no     589\n",
    "\n",
    "# 54 : 현재 형제수 데이터에는 0 이 없음. 즉, 외동에 대해서는 표현이 없음. -> NrSiblings=0.0\n",
    "# 1518 : 첫째여도 첫째가 아니여도, 어쨌거나 형제가 있다는 뜻. -> NrSiblings=1.0\n",
    "\n",
    "\n",
    "# IsFirstChild=Null 일때, NrSiblings 확인\n",
    "\n",
    "data[data['IsFirstChild'].isna()]['NrSiblings'].isna().sum()\n",
    "# 54\n",
    "data[data['IsFirstChild'].isna()]['NrSiblings'].value_counts()\n",
    "# 1.0    245\n",
    "# 2.0    187\n",
    "# 0.0    151\n",
    "# 3.0    147\n",
    "# 4.0     74\n",
    "# 5.0     35\n",
    "# 7.0      6\n",
    "# 6.0      5\n",
    "\n",
    "# 54 : 형제수가 0, 다시말해 외동인 경우, 첫째이기도 한 것으로 표현. -> IsFirstChild=yes\n",
    "# 850 -> ?"
   ]
  },
  {
   "cell_type": "code",
   "execution_count": null,
   "metadata": {},
   "outputs": [],
   "source": [
    "# x, y 분리\n",
    "    # 수치형 -> 스케일링\n",
    "    # 범주형 -> 인코딩 - 라벨 or 원핫\n",
    "\n",
    "# train, test 데이터 분할\n",
    "\n",
    "# 모델 생성 <- 적절한 모델로 선택\n",
    "# 모델 학습\n",
    "# 모델 평가\n",
    "\n",
    "# 하이퍼파라미터 튜닝"
   ]
  }
 ],
 "metadata": {
  "kernelspec": {
   "display_name": "venv",
   "language": "python",
   "name": "python3"
  },
  "language_info": {
   "codemirror_mode": {
    "name": "ipython",
    "version": 3
   },
   "file_extension": ".py",
   "mimetype": "text/x-python",
   "name": "python",
   "nbconvert_exporter": "python",
   "pygments_lexer": "ipython3",
   "version": "3.8.8rc1"
  },
  "orig_nbformat": 4
 },
 "nbformat": 4,
 "nbformat_minor": 2
}
