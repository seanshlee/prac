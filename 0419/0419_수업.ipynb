{
 "cells": [
  {
   "cell_type": "code",
   "execution_count": null,
   "metadata": {},
   "outputs": [],
   "source": [
    "#회귀는 연속적인 값, 분류는 이산적인 클래스 예측\n",
    "#회귀평가지표 : 평균제곱오차(MSE), 평균절대오차(MAE), 결정계수"
   ]
  },
  {
   "attachments": {},
   "cell_type": "markdown",
   "metadata": {},
   "source": [
    "분류평가지표 \n",
    ": 정확도(Accuracy), 정밀도(Precision), 재현율(Recall), F1 Score, 혼동행렬(Confusion Matrix)\n",
    "1000명 중 1명이 병에 걸린 경우(불균형데이터인 경우), 정확도(Accuracy)만으로는 모델의 성능을 평가할 수 없다.\n",
    "이를 커버하기 위해 다른 분류평가지표들을 사용한다. \n",
    "\n",
    "-> 전체 값 중에서 예측한 것에 대한 비율 = 정확도(Accuracy) : 균형 데이터셋에서 일반적인 성능 확인 시 사용\n",
    "-> 예측한 값들 중 맞게 예측한 것의 비율 = 정밀도(Precision)\n",
    "-> 전체 예측 값(알아내야 할 값)중 맞게 예측한 비율 = 재현율(Recall)\n",
    "-> F1 Score(여러 지표들을 가지고 만든 스코어)"
   ]
  },
  {
   "attachments": {},
   "cell_type": "markdown",
   "metadata": {},
   "source": [
    "ROC 커브 : 2진 분류 모델의 성능을 평가하는 그래프. \n",
    "(좌상단으로 붙어 있는 커브일수록 더 좋은 분류기이다. 커브 아래 부분의 넓이가 넓어야 좋은 모델임)\n",
    "1에 가까울수록 좋고, 0.5에 가까울수록 나쁜 성능이다. "
   ]
  },
  {
   "attachments": {},
   "cell_type": "markdown",
   "metadata": {},
   "source": [
    "하이퍼파라미터 튜닝\n",
    "- 하이퍼파라미터 : 머신러닝 알고리즘의 구성 요소를 조절하는 변수 (학습률, 은닉층 개수, 결정 트리의 깊이 등)\n",
    "- 최적의 하이퍼파라미터 찾기 : 그리드 탐색, 랜덤 탐색, 베이지안 최적화 등"
   ]
  },
  {
   "attachments": {},
   "cell_type": "markdown",
   "metadata": {},
   "source": [
    "최소제곱법 \n",
    ": 오차제곱합이 최소가 되게 하는 직선(회귀선)을 찾는 방법. 예측변수와 결과변수 사이의 연속 값을 예측하는데도 사용됨. "
   ]
  },
  {
   "cell_type": "code",
   "execution_count": null,
   "metadata": {},
   "outputs": [],
   "source": []
  }
 ],
 "metadata": {
  "language_info": {
   "name": "python"
  },
  "orig_nbformat": 4
 },
 "nbformat": 4,
 "nbformat_minor": 2
}
