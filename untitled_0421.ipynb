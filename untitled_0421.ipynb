{
 "cells": [
  {
   "cell_type": "code",
   "execution_count": 182,
   "metadata": {},
   "outputs": [],
   "source": [
    "import pandas as pd\n",
    "from sklearn.preprocessing import MinMaxScaler\n",
    "from sklearn.model_selection import train_test_split\n",
    "mm = MinMaxScaler()"
   ]
  },
  {
   "cell_type": "code",
   "execution_count": 183,
   "metadata": {},
   "outputs": [],
   "source": [
    "PATH = 'C:/Users/skh01/Downloads/Expanded_data_with_more_features.csv/Expanded_data_with_more_features.csv'"
   ]
  },
  {
   "cell_type": "code",
   "execution_count": 184,
   "metadata": {},
   "outputs": [],
   "source": [
    "study = pd.read_csv(PATH)\n",
    "stu = study.copy()"
   ]
  },
  {
   "cell_type": "code",
   "execution_count": null,
   "metadata": {},
   "outputs": [],
   "source": [
    "stu.columns"
   ]
  },
  {
   "cell_type": "code",
   "execution_count": null,
   "metadata": {},
   "outputs": [],
   "source": [
    "stu.isna().sum()\n",
    "stu"
   ]
  },
  {
   "attachments": {},
   "cell_type": "markdown",
   "metadata": {},
   "source": [
    "#NaN데이터 처리"
   ]
  },
  {
   "cell_type": "code",
   "execution_count": null,
   "metadata": {},
   "outputs": [],
   "source": [
    "stu.TransportMeans=stu.TransportMeans.fillna('foot')\n",
    "stu.TestPrep = stu.TestPrep.fillna('none')\n",
    "stu.WklyStudyHours = stu.WklyStudyHours.fillna('0')\n",
    "stu['IsFirstChild'] = stu['IsFirstChild'].fillna('no')\n",
    "stu.PracticeSport = stu.PracticeSport.fillna('no')\n",
    "stu.NrSiblings = stu.NrSiblings.fillna(0.0)\n",
    "stu.ParentMaritalStatus = stu.ParentMaritalStatus.fillna('single')\n",
    "stu.ParentEduc = stu.ParentEduc.fillna('some high school')\n",
    "stu.replace('high school','some high school')\n",
    "stu.EthnicGroup = stu.EthnicGroup.fillna('group A')"
   ]
  },
  {
   "cell_type": "code",
   "execution_count": 186,
   "metadata": {},
   "outputs": [],
   "source": [
    "stu['TestPrep'] = stu['TestPrep'].replace({'completed': 1, 'none': 0})\n",
    "stu['LunchType'] = stu['TestPrep'].replace({'free/reduced': 1, 'standard': 0})\n",
    "stu['TransportMeans'] = stu['TestPrep'].replace({'private': 1, 'school_bus': 0})\n",
    "\n",
    "# 이 부분은 범주형으로 type 전환하는 부분인데 굳이 안해도 될 듯\n",
    "stu['TestPrep'] = stu['TestPrep'].astype('category')\n",
    "stu['LunchType'] = stu['TestPrep'].astype('category')\n",
    "stu['TransportMeans'] = stu['TestPrep'].astype('category')"
   ]
  },
  {
   "attachments": {},
   "cell_type": "markdown",
   "metadata": {},
   "source": [
    "0과 1로 변환"
   ]
  },
  {
   "cell_type": "code",
   "execution_count": 187,
   "metadata": {},
   "outputs": [],
   "source": [
    "# stu.drop(['TestPrep','LunchType','NrSiblings','TransportMeans','Unnamed: 0'],axis=1,inplace=True)\n",
    "stu.replace(\n",
    "    {'EthnicGroup':\n",
    "     {\n",
    "      'group A':0,\n",
    "      'group B':1,\n",
    "      'group C':2,\n",
    "      'group D':3,\n",
    "      'group E':4\n",
    "      },\n",
    "      'IsFirstChild':\n",
    "      {\n",
    "        'yes':0,\n",
    "        'no':1\n",
    "      },\n",
    "      # 'PracticeSport':\n",
    "      # { #운동을 하는 경우 = 1\n",
    "      #   'never':0,\n",
    "      #   'sometimes':1,\n",
    "      #   'regularly':1,\n",
    "      #   'no':0\n",
    "      # },\n",
    "      'ParentMaritalStatus':\n",
    "      { #결혼 이외 = 1\n",
    "        'single':0,\n",
    "        'widowed':0,\n",
    "        'married':1,\n",
    "        'divorced':0\n",
    "      },\n",
    "      # 'ParentEduc':\n",
    "      # { #고등학교 이상 = 1\n",
    "      #   'some high school':0,\n",
    "      #   'high school':0,\n",
    "      #   'some college':1,\n",
    "      #   \"bachelor's degree\":1,\n",
    "      #   \"associate's degree\":1,\n",
    "      #   \"master's degree\":1\n",
    "      # },\n",
    "      'WklyStudyHours':\n",
    "      { #5시간 이상 = 1\n",
    "        '< 5':0,\n",
    "        '5 - 10':1,\n",
    "        '> 10':1\n",
    "      },\n",
    "      'Gender':\n",
    "      {\n",
    "        'female':0,\n",
    "        'male':1\n",
    "      }\n",
    "      },\n",
    "            inplace=True)"
   ]
  },
  {
   "cell_type": "code",
   "execution_count": 188,
   "metadata": {},
   "outputs": [],
   "source": [
    "stu = pd.get_dummies(stu,columns=['ParentEduc', 'PracticeSport'])\n"
   ]
  },
  {
   "cell_type": "code",
   "execution_count": 72,
   "metadata": {},
   "outputs": [
    {
     "data": {
      "text/plain": [
       "Index(['Unnamed: 0', 'Gender', 'EthnicGroup', 'ParentEduc', 'LunchType',\n",
       "       'TestPrep', 'ParentMaritalStatus', 'PracticeSport', 'IsFirstChild',\n",
       "       'NrSiblings', 'TransportMeans', 'WklyStudyHours', 'MathScore',\n",
       "       'ReadingScore', 'WritingScore'],\n",
       "      dtype='object')"
      ]
     },
     "execution_count": 72,
     "metadata": {},
     "output_type": "execute_result"
    }
   ],
   "source": [
    "stu.columns"
   ]
  },
  {
   "cell_type": "code",
   "execution_count": 189,
   "metadata": {},
   "outputs": [],
   "source": [
    "stu['TotalMeans'] = (stu['MathScore'].astype('int')+stu['ReadingScore'].astype('int')+stu['WritingScore'].astype('int'))/3\n"
   ]
  },
  {
   "cell_type": "code",
   "execution_count": 190,
   "metadata": {},
   "outputs": [
    {
     "data": {
      "text/plain": [
       "<AxesSubplot:>"
      ]
     },
     "execution_count": 190,
     "metadata": {},
     "output_type": "execute_result"
    },
    {
     "data": {
      "image/png": "[encoded data removed]",
      "text/plain": [
       "<Figure size 432x288 with 1 Axes>"
      ]
     },
     "metadata": {
      "needs_background": "light"
     },
     "output_type": "display_data"
    }
   ],
   "source": [
    "import matplotlib.pyplot as plt\n",
    "stu.boxplot()"
   ]
  },
  {
   "cell_type": "code",
   "execution_count": null,
   "metadata": {},
   "outputs": [],
   "source": [
    "stu.drop(['Unnamed: 0'],axis=1,inplace=True)"
   ]
  },
  {
   "cell_type": "code",
   "execution_count": 193,
   "metadata": {},
   "outputs": [
    {
     "data": {
      "text/plain": [
       "Index(['Gender', 'EthnicGroup', 'LunchType', 'TestPrep', 'ParentMaritalStatus',\n",
       "       'IsFirstChild', 'NrSiblings', 'TransportMeans', 'WklyStudyHours',\n",
       "       'MathScore', 'ReadingScore', 'WritingScore',\n",
       "       'ParentEduc_associate's degree', 'ParentEduc_bachelor's degree',\n",
       "       'ParentEduc_high school', 'ParentEduc_master's degree',\n",
       "       'ParentEduc_some college', 'ParentEduc_some high school',\n",
       "       'PracticeSport_never', 'PracticeSport_no', 'PracticeSport_regularly',\n",
       "       'PracticeSport_sometimes', 'TotalMeans'],\n",
       "      dtype='object')"
      ]
     },
     "execution_count": 193,
     "metadata": {},
     "output_type": "execute_result"
    }
   ],
   "source": [
    "stu.columns"
   ]
  },
  {
   "cell_type": "code",
   "execution_count": 227,
   "metadata": {},
   "outputs": [],
   "source": [
    "# y = stu[['WritingScore']] #TotalMeans = 0.09, WritingScore = 0.2, MathScore = 0.018, ReadingScore =0.12\n",
    "\n",
    "y = stu[['WritingScore']] \n",
    "\n",
    "X = stu[['Gender', 'LunchType', 'TestPrep', \n",
    "       'TransportMeans', \"ParentEduc_bachelor's degree\",\n",
    "       'ParentEduc_high school', \"ParentEduc_master's degree\",\n",
    "       'ParentEduc_some high school',\n",
    "       'PracticeSport_never']] #여기에 y writingscore 하면 0.21\n",
    "\n",
    "# X = stu[['Gender','ParentEduc', 'LunchType', 'TestPrep', 'WklyStudyHours','PracticeSport','TransportMeans']] 여기에 y writingScore인 경우에 0.2049\n",
    "\n",
    "\n",
    "# z = stu[[ -\n",
    "    #    'ParentMaritalStatus', 'IsFirstChild', 'NrSiblings',\n",
    "    #    \n"
   ]
  },
  {
   "cell_type": "code",
   "execution_count": null,
   "metadata": {},
   "outputs": [],
   "source": [
    "stu"
   ]
  },
  {
   "cell_type": "code",
   "execution_count": 81,
   "metadata": {},
   "outputs": [],
   "source": [
    "#변수 간 상관관계 확인하기 \n",
    "import pandas as pd\n",
    "import seaborn as sns\n",
    "import matplotlib.pyplot as plt"
   ]
  },
  {
   "cell_type": "code",
   "execution_count": 85,
   "metadata": {},
   "outputs": [],
   "source": [
    "corr = z.corr()"
   ]
  },
  {
   "cell_type": "code",
   "execution_count": 86,
   "metadata": {},
   "outputs": [
    {
     "data": {
      "image/png": "[encoded data removed]",
      "text/plain": [
       "<Figure size 432x288 with 2 Axes>"
      ]
     },
     "metadata": {
      "needs_background": "light"
     },
     "output_type": "display_data"
    }
   ],
   "source": [
    "#히트맵 그리기 \n",
    "sns.heatmap(corr, annot=True, cmap='coolwarm' )\n",
    "plt.show()"
   ]
  },
  {
   "cell_type": "code",
   "execution_count": 33,
   "metadata": {},
   "outputs": [],
   "source": [
    "import matplotlib.pyplot as plt\n",
    "\n",
    "def scatter_plot(df):\n",
    "    for column in df.columns:\n",
    "        plt.scatter(df.index, df[column], label=column)\n",
    "    plt.legend()\n",
    "    plt.show()"
   ]
  },
  {
   "cell_type": "code",
   "execution_count": 87,
   "metadata": {},
   "outputs": [
    {
     "name": "stderr",
     "output_type": "stream",
     "text": [
      "c:\\Users\\skh01\\anaconda3\\lib\\site-packages\\IPython\\core\\pylabtools.py:132: UserWarning: Creating legend with loc=\"best\" can be slow with large amounts of data.\n",
      "  fig.canvas.print_figure(bytes_io, **kw)\n"
     ]
    },
    {
     "data": {
      "image/png": "[encoded data removed]",
      "text/plain": [
       "<Figure size 432x288 with 1 Axes>"
      ]
     },
     "metadata": {
      "needs_background": "light"
     },
     "output_type": "display_data"
    }
   ],
   "source": [
    "scatter_plot(z)"
   ]
  },
  {
   "cell_type": "code",
   "execution_count": 35,
   "metadata": {},
   "outputs": [
    {
     "name": "stdout",
     "output_type": "stream",
     "text": [
      "<class 'pandas.core.frame.DataFrame'>\n",
      "RangeIndex: 30641 entries, 0 to 30640\n",
      "Data columns (total 11 columns):\n",
      " #   Column               Non-Null Count  Dtype  \n",
      "---  ------               --------------  -----  \n",
      " 0   Gender               30641 non-null  int64  \n",
      " 1   EthnicGroup          30641 non-null  int64  \n",
      " 2   ParentEduc           30641 non-null  int64  \n",
      " 3   ParentMaritalStatus  30641 non-null  int64  \n",
      " 4   PracticeSport        30641 non-null  int64  \n",
      " 5   IsFirstChild         30641 non-null  int64  \n",
      " 6   WklyStudyHours       30641 non-null  object \n",
      " 7   MathScore            30641 non-null  int64  \n",
      " 8   ReadingScore         30641 non-null  int64  \n",
      " 9   WritingScore         30641 non-null  int64  \n",
      " 10  TotalMeans           30641 non-null  float64\n",
      "dtypes: float64(1), int64(9), object(1)\n",
      "memory usage: 2.6+ MB\n"
     ]
    }
   ],
   "source": [
    "stu.info()"
   ]
  },
  {
   "cell_type": "code",
   "execution_count": 201,
   "metadata": {},
   "outputs": [
    {
     "name": "stdout",
     "output_type": "stream",
     "text": [
      "[ True  True  True  True False False False False False]\n"
     ]
    }
   ],
   "source": [
    "############ 변수선택법 \n",
    "from sklearn.feature_selection import RFE\n",
    "from sklearn.linear_model import LinearRegression\n",
    "model = LinearRegression()\n",
    "# 변수 선택법을 수행합니다.\n",
    "selector = RFE(model, n_features_to_select=None) # 최종적으로 선택할 특징의 개수를 설정합니다.\n",
    "selector.fit(X, y) # 변수 선택법을 적용합니다.\n",
    "print(selector.support_)"
   ]
  },
  {
   "cell_type": "code",
   "execution_count": null,
   "metadata": {},
   "outputs": [],
   "source": []
  },
  {
   "cell_type": "code",
   "execution_count": 228,
   "metadata": {},
   "outputs": [],
   "source": [
    "X = mm.fit_transform(X)"
   ]
  },
  {
   "cell_type": "code",
   "execution_count": 229,
   "metadata": {},
   "outputs": [],
   "source": [
    "from sklearn.model_selection import train_test_split\n",
    "X_train, X_test, y_train, y_test = train_test_split(X,y,test_size = 0.2, random_state=50) "
   ]
  },
  {
   "cell_type": "code",
   "execution_count": 230,
   "metadata": {},
   "outputs": [
    {
     "name": "stderr",
     "output_type": "stream",
     "text": [
      "c:\\Users\\skh01\\anaconda3\\lib\\site-packages\\sklearn\\base.py:439: UserWarning: X does not have valid feature names, but MinMaxScaler was fitted with feature names\n",
      "  warnings.warn(\n"
     ]
    }
   ],
   "source": [
    "X_test_scaled = mm.transform(X_test)"
   ]
  },
  {
   "cell_type": "code",
   "execution_count": 231,
   "metadata": {},
   "outputs": [
    {
     "name": "stderr",
     "output_type": "stream",
     "text": [
      "<ipython-input-231-b871dde98187>:7: DataConversionWarning: A column-vector y was passed when a 1d array was expected. Please change the shape of y to (n_samples,), for example using ravel().\n",
      "  rf_model.fit(X_train, y_train)\n"
     ]
    },
    {
     "data": {
      "text/plain": [
       "0.21544876094121335"
      ]
     },
     "execution_count": 231,
     "metadata": {},
     "output_type": "execute_result"
    }
   ],
   "source": [
    "#Random Forest \n",
    "from sklearn.ensemble import RandomForestRegressor\n",
    "rf_model = RandomForestRegressor()\n",
    "from sklearn.metrics import roc_auc_score\n",
    "from sklearn.metrics import r2_score\n",
    "\n",
    "rf_model.fit(X_train, y_train)\n",
    "pred = rf_model.predict(X_test_scaled)\n",
    "r2_score(y_test, pred)"
   ]
  },
  {
   "cell_type": "code",
   "execution_count": null,
   "metadata": {},
   "outputs": [],
   "source": []
  }
 ],
 "metadata": {
  "kernelspec": {
   "display_name": "MLenv",
   "language": "python",
   "name": "python3"
  },
  "language_info": {
   "codemirror_mode": {
    "name": "ipython",
    "version": 3
   },
   "file_extension": ".py",
   "mimetype": "text/x-python",
   "name": "python",
   "nbconvert_exporter": "python",
   "pygments_lexer": "ipython3",
   "version": "3.8.8"
  },
  "orig_nbformat": 4
 },
 "nbformat": 4,
 "nbformat_minor": 2
}
